{
 "cells": [
  {
   "cell_type": "code",
   "execution_count": 1,
   "id": "1654d9af",
   "metadata": {
    "execution": {
     "iopub.execute_input": "2023-11-17T04:45:57.430163Z",
     "iopub.status.busy": "2023-11-17T04:45:57.429659Z",
     "iopub.status.idle": "2023-11-17T04:45:58.292158Z",
     "shell.execute_reply": "2023-11-17T04:45:58.290449Z"
    },
    "papermill": {
     "duration": 0.872337,
     "end_time": "2023-11-17T04:45:58.294792",
     "exception": false,
     "start_time": "2023-11-17T04:45:57.422455",
     "status": "completed"
    },
    "tags": []
   },
   "outputs": [],
   "source": [
    "import os\n",
    "import numpy as np\n",
    "import pandas as pd\n",
    "import matplotlib.pyplot as plt\n",
    "import warnings \n",
    "warnings.filterwarnings (\"ignore\")"
   ]
  },
  {
   "cell_type": "code",
   "execution_count": 2,
   "id": "dc968d32",
   "metadata": {
    "execution": {
     "iopub.execute_input": "2023-11-17T04:45:58.306530Z",
     "iopub.status.busy": "2023-11-17T04:45:58.305934Z",
     "iopub.status.idle": "2023-11-17T04:45:58.425245Z",
     "shell.execute_reply": "2023-11-17T04:45:58.423956Z"
    },
    "papermill": {
     "duration": 0.128189,
     "end_time": "2023-11-17T04:45:58.427758",
     "exception": false,
     "start_time": "2023-11-17T04:45:58.299569",
     "status": "completed"
    },
    "tags": []
   },
   "outputs": [],
   "source": [
    "rating = pd.read_csv('/kaggle/input/movielens-tmdb-merged/ratings_merged.csv')\n",
    "rating.drop(columns=['Unnamed: 0'],inplace=True)\n",
    "MLmovie = pd.read_csv('/kaggle/input/movie-lens-100k/movies.csv')\n",
    "move = pd.read_csv('/kaggle/input/movielens-tmdb-merged/movies_merged (2).csv')\n",
    "move.drop(columns=['Unnamed: 0'],inplace=True)\n",
    "move2 = pd.read_csv('/kaggle/input/modified-100k/movies12.csv')\n",
    "move2.drop(columns=['Unnamed: 0'],inplace=True)"
   ]
  },
  {
   "cell_type": "code",
   "execution_count": 3,
   "id": "6bff9cbb",
   "metadata": {
    "execution": {
     "iopub.execute_input": "2023-11-17T04:45:58.439105Z",
     "iopub.status.busy": "2023-11-17T04:45:58.438719Z",
     "iopub.status.idle": "2023-11-17T04:45:58.458777Z",
     "shell.execute_reply": "2023-11-17T04:45:58.457978Z"
    },
    "papermill": {
     "duration": 0.028371,
     "end_time": "2023-11-17T04:45:58.460932",
     "exception": false,
     "start_time": "2023-11-17T04:45:58.432561",
     "status": "completed"
    },
    "tags": []
   },
   "outputs": [],
   "source": [
    "move3 = pd.merge(MLmovie[['movieId', 'title']], move, on='movieId')\n",
    "move3.drop(columns=['title_y'],inplace=True)\n"
   ]
  },
  {
   "cell_type": "code",
   "execution_count": 4,
   "id": "7619f073",
   "metadata": {
    "execution": {
     "iopub.execute_input": "2023-11-17T04:45:58.471669Z",
     "iopub.status.busy": "2023-11-17T04:45:58.471322Z",
     "iopub.status.idle": "2023-11-17T04:45:58.501166Z",
     "shell.execute_reply": "2023-11-17T04:45:58.500039Z"
    },
    "papermill": {
     "duration": 0.037545,
     "end_time": "2023-11-17T04:45:58.503119",
     "exception": false,
     "start_time": "2023-11-17T04:45:58.465574",
     "status": "completed"
    },
    "tags": []
   },
   "outputs": [
    {
     "data": {
      "text/html": [
       "<div>\n",
       "<style scoped>\n",
       "    .dataframe tbody tr th:only-of-type {\n",
       "        vertical-align: middle;\n",
       "    }\n",
       "\n",
       "    .dataframe tbody tr th {\n",
       "        vertical-align: top;\n",
       "    }\n",
       "\n",
       "    .dataframe thead th {\n",
       "        text-align: right;\n",
       "    }\n",
       "</style>\n",
       "<table border=\"1\" class=\"dataframe\">\n",
       "  <thead>\n",
       "    <tr style=\"text-align: right;\">\n",
       "      <th></th>\n",
       "      <th>userId</th>\n",
       "      <th>movieId</th>\n",
       "      <th>rating</th>\n",
       "      <th>timestamp</th>\n",
       "      <th>title</th>\n",
       "    </tr>\n",
       "  </thead>\n",
       "  <tbody>\n",
       "    <tr>\n",
       "      <th>0</th>\n",
       "      <td>1</td>\n",
       "      <td>1061</td>\n",
       "      <td>3.0</td>\n",
       "      <td>1260759182</td>\n",
       "      <td>Sleepers (1996)</td>\n",
       "    </tr>\n",
       "    <tr>\n",
       "      <th>1</th>\n",
       "      <td>19</td>\n",
       "      <td>1061</td>\n",
       "      <td>3.0</td>\n",
       "      <td>855190382</td>\n",
       "      <td>Sleepers (1996)</td>\n",
       "    </tr>\n",
       "    <tr>\n",
       "      <th>2</th>\n",
       "      <td>23</td>\n",
       "      <td>1061</td>\n",
       "      <td>3.5</td>\n",
       "      <td>1148673456</td>\n",
       "      <td>Sleepers (1996)</td>\n",
       "    </tr>\n",
       "    <tr>\n",
       "      <th>3</th>\n",
       "      <td>30</td>\n",
       "      <td>1061</td>\n",
       "      <td>3.0</td>\n",
       "      <td>946162006</td>\n",
       "      <td>Sleepers (1996)</td>\n",
       "    </tr>\n",
       "    <tr>\n",
       "      <th>4</th>\n",
       "      <td>70</td>\n",
       "      <td>1061</td>\n",
       "      <td>5.0</td>\n",
       "      <td>853955020</td>\n",
       "      <td>Sleepers (1996)</td>\n",
       "    </tr>\n",
       "  </tbody>\n",
       "</table>\n",
       "</div>"
      ],
      "text/plain": [
       "   userId  movieId  rating   timestamp            title\n",
       "0       1     1061     3.0  1260759182  Sleepers (1996)\n",
       "1      19     1061     3.0   855190382  Sleepers (1996)\n",
       "2      23     1061     3.5  1148673456  Sleepers (1996)\n",
       "3      30     1061     3.0   946162006  Sleepers (1996)\n",
       "4      70     1061     5.0   853955020  Sleepers (1996)"
      ]
     },
     "execution_count": 4,
     "metadata": {},
     "output_type": "execute_result"
    }
   ],
   "source": [
    "movie_dataset = move3[['movieId','title_x']]\n",
    "movie_dataset.rename(columns={\"title_x\": \"title\"}, inplace=True)\n",
    "merged_dataset = pd.merge(rating, movie_dataset, how='inner', on='movieId')\n",
    "merged_dataset.head()"
   ]
  },
  {
   "cell_type": "code",
   "execution_count": 5,
   "id": "6c17b87f",
   "metadata": {
    "execution": {
     "iopub.execute_input": "2023-11-17T04:45:58.514822Z",
     "iopub.status.busy": "2023-11-17T04:45:58.514254Z",
     "iopub.status.idle": "2023-11-17T04:45:58.553387Z",
     "shell.execute_reply": "2023-11-17T04:45:58.551972Z"
    },
    "papermill": {
     "duration": 0.047973,
     "end_time": "2023-11-17T04:45:58.556185",
     "exception": false,
     "start_time": "2023-11-17T04:45:58.508212",
     "status": "completed"
    },
    "tags": []
   },
   "outputs": [
    {
     "data": {
      "text/html": [
       "<div>\n",
       "<style scoped>\n",
       "    .dataframe tbody tr th:only-of-type {\n",
       "        vertical-align: middle;\n",
       "    }\n",
       "\n",
       "    .dataframe tbody tr th {\n",
       "        vertical-align: top;\n",
       "    }\n",
       "\n",
       "    .dataframe thead th {\n",
       "        text-align: right;\n",
       "    }\n",
       "</style>\n",
       "<table border=\"1\" class=\"dataframe\">\n",
       "  <thead>\n",
       "    <tr style=\"text-align: right;\">\n",
       "      <th></th>\n",
       "      <th>userId</th>\n",
       "      <th>title</th>\n",
       "      <th>rating</th>\n",
       "    </tr>\n",
       "  </thead>\n",
       "  <tbody>\n",
       "    <tr>\n",
       "      <th>0</th>\n",
       "      <td>1</td>\n",
       "      <td>Antz (1998)</td>\n",
       "      <td>2.0</td>\n",
       "    </tr>\n",
       "    <tr>\n",
       "      <th>1</th>\n",
       "      <td>1</td>\n",
       "      <td>Beavis and Butt-Head Do America (1996)</td>\n",
       "      <td>1.0</td>\n",
       "    </tr>\n",
       "    <tr>\n",
       "      <th>2</th>\n",
       "      <td>1</td>\n",
       "      <td>Blazing Saddles (1974)</td>\n",
       "      <td>3.0</td>\n",
       "    </tr>\n",
       "    <tr>\n",
       "      <th>3</th>\n",
       "      <td>1</td>\n",
       "      <td>Escape from New York (1981)</td>\n",
       "      <td>2.0</td>\n",
       "    </tr>\n",
       "    <tr>\n",
       "      <th>4</th>\n",
       "      <td>1</td>\n",
       "      <td>Gandhi (1982)</td>\n",
       "      <td>2.0</td>\n",
       "    </tr>\n",
       "  </tbody>\n",
       "</table>\n",
       "</div>"
      ],
      "text/plain": [
       "   userId                                   title  rating\n",
       "0       1                             Antz (1998)     2.0\n",
       "1       1  Beavis and Butt-Head Do America (1996)     1.0\n",
       "2       1                  Blazing Saddles (1974)     3.0\n",
       "3       1             Escape from New York (1981)     2.0\n",
       "4       1                           Gandhi (1982)     2.0"
      ]
     },
     "execution_count": 5,
     "metadata": {},
     "output_type": "execute_result"
    }
   ],
   "source": [
    "refined_dataset = merged_dataset.groupby(by=['userId','title'], as_index=False).agg({\"rating\":\"mean\"})\n",
    "refined_dataset.head()"
   ]
  },
  {
   "cell_type": "code",
   "execution_count": 6,
   "id": "be02d141",
   "metadata": {
    "execution": {
     "iopub.execute_input": "2023-11-17T04:45:58.567834Z",
     "iopub.status.busy": "2023-11-17T04:45:58.567486Z",
     "iopub.status.idle": "2023-11-17T04:45:58.578015Z",
     "shell.execute_reply": "2023-11-17T04:45:58.576362Z"
    },
    "papermill": {
     "duration": 0.019205,
     "end_time": "2023-11-17T04:45:58.580458",
     "exception": false,
     "start_time": "2023-11-17T04:45:58.561253",
     "status": "completed"
    },
    "tags": []
   },
   "outputs": [],
   "source": [
    "#list of all users\n",
    "unique_users = refined_dataset['userId'].unique() \n",
    "#creating a list of all movie names in it\n",
    "unique_movies = refined_dataset['title'].unique()"
   ]
  },
  {
   "cell_type": "code",
   "execution_count": 7,
   "id": "f2b4f27e",
   "metadata": {
    "execution": {
     "iopub.execute_input": "2023-11-17T04:45:58.592351Z",
     "iopub.status.busy": "2023-11-17T04:45:58.591993Z",
     "iopub.status.idle": "2023-11-17T04:45:58.600650Z",
     "shell.execute_reply": "2023-11-17T04:45:58.599564Z"
    },
    "papermill": {
     "duration": 0.01721,
     "end_time": "2023-11-17T04:45:58.602901",
     "exception": false,
     "start_time": "2023-11-17T04:45:58.585691",
     "status": "completed"
    },
    "tags": []
   },
   "outputs": [],
   "source": [
    "users_list = refined_dataset['userId'].tolist()\n",
    "movie_list = refined_dataset['title'].tolist()\n",
    "ratings_list = refined_dataset['rating'].tolist()"
   ]
  },
  {
   "cell_type": "code",
   "execution_count": 8,
   "id": "8024d029",
   "metadata": {
    "execution": {
     "iopub.execute_input": "2023-11-17T04:45:58.614222Z",
     "iopub.status.busy": "2023-11-17T04:45:58.613795Z",
     "iopub.status.idle": "2023-11-17T04:45:58.620519Z",
     "shell.execute_reply": "2023-11-17T04:45:58.619344Z"
    },
    "papermill": {
     "duration": 0.015232,
     "end_time": "2023-11-17T04:45:58.623081",
     "exception": false,
     "start_time": "2023-11-17T04:45:58.607849",
     "status": "completed"
    },
    "tags": []
   },
   "outputs": [],
   "source": [
    "\n",
    "movies_dict = {unique_movies[i] : i for i in range(len(unique_movies))}\n",
    "\n",
    "\n",
    "     "
   ]
  },
  {
   "cell_type": "code",
   "execution_count": 9,
   "id": "571ab24c",
   "metadata": {
    "execution": {
     "iopub.execute_input": "2023-11-17T04:45:58.635004Z",
     "iopub.status.busy": "2023-11-17T04:45:58.634609Z",
     "iopub.status.idle": "2023-11-17T04:45:58.921395Z",
     "shell.execute_reply": "2023-11-17T04:45:58.919802Z"
    },
    "papermill": {
     "duration": 0.296309,
     "end_time": "2023-11-17T04:45:58.924726",
     "exception": false,
     "start_time": "2023-11-17T04:45:58.628417",
     "status": "completed"
    },
    "tags": []
   },
   "outputs": [
    {
     "name": "stdout",
     "output_type": "stream",
     "text": [
      "Shape of Utility matrix:  (2448, 671)\n"
     ]
    },
    {
     "data": {
      "text/plain": [
       "array([[ 2., nan, nan, ..., nan, nan, nan],\n",
       "       [ 1., nan, nan, ..., nan, nan, nan],\n",
       "       [ 3., nan, nan, ..., nan, nan,  3.],\n",
       "       ...,\n",
       "       [nan, nan, nan, ..., nan, nan, nan],\n",
       "       [nan, nan, nan, ..., nan, nan, nan],\n",
       "       [nan, nan, nan, ..., nan, nan, nan]])"
      ]
     },
     "execution_count": 9,
     "metadata": {},
     "output_type": "execute_result"
    }
   ],
   "source": [
    "utility_matrix = np.asarray([[np.nan for j in range(len(unique_users))] for i in range(len(unique_movies))])\n",
    "print(\"Shape of Utility matrix: \",utility_matrix.shape)\n",
    "\n",
    "for i in range(len(ratings_list)):\n",
    "  utility_matrix[movies_dict[movie_list[i]]][users_list[i]-1] = ratings_list[i]\n",
    "\n",
    "utility_matrix"
   ]
  },
  {
   "cell_type": "code",
   "execution_count": 10,
   "id": "20293c94",
   "metadata": {
    "execution": {
     "iopub.execute_input": "2023-11-17T04:45:58.937262Z",
     "iopub.status.busy": "2023-11-17T04:45:58.936847Z",
     "iopub.status.idle": "2023-11-17T04:45:58.957490Z",
     "shell.execute_reply": "2023-11-17T04:45:58.956461Z"
    },
    "papermill": {
     "duration": 0.02932,
     "end_time": "2023-11-17T04:45:58.959941",
     "exception": false,
     "start_time": "2023-11-17T04:45:58.930621",
     "status": "completed"
    },
    "tags": []
   },
   "outputs": [],
   "source": [
    "\n",
    "mask = np.isnan(utility_matrix)\n",
    "masked_arr = np.ma.masked_array(utility_matrix, mask)\n",
    "temp_mask = masked_arr.T\n",
    "rating_means = np.mean(temp_mask, axis=0)\n",
    "\n",
    "filled_matrix = temp_mask.filled(rating_means)\n",
    "filled_matrix = filled_matrix.T\n",
    "filled_matrix = filled_matrix - rating_means.data[:,np.newaxis]"
   ]
  },
  {
   "cell_type": "code",
   "execution_count": 11,
   "id": "55c2b51b",
   "metadata": {
    "execution": {
     "iopub.execute_input": "2023-11-17T04:45:58.971751Z",
     "iopub.status.busy": "2023-11-17T04:45:58.971364Z",
     "iopub.status.idle": "2023-11-17T04:45:58.979948Z",
     "shell.execute_reply": "2023-11-17T04:45:58.978550Z"
    },
    "papermill": {
     "duration": 0.016889,
     "end_time": "2023-11-17T04:45:58.982117",
     "exception": false,
     "start_time": "2023-11-17T04:45:58.965228",
     "status": "completed"
    },
    "tags": []
   },
   "outputs": [
    {
     "data": {
      "text/plain": [
       "array([[-0.02574607, -0.04109006, -0.01891121, ...,  0.        ,\n",
       "         0.        ,  0.        ],\n",
       "       [ 0.        ,  0.        ,  0.        , ...,  0.        ,\n",
       "         0.        ,  0.        ],\n",
       "       [ 0.        ,  0.        ,  0.        , ...,  0.        ,\n",
       "         0.        ,  0.        ],\n",
       "       ...,\n",
       "       [ 0.        ,  0.        ,  0.        , ...,  0.        ,\n",
       "         0.        ,  0.        ],\n",
       "       [ 0.        ,  0.        ,  0.        , ...,  0.        ,\n",
       "         0.        ,  0.        ],\n",
       "       [ 0.        ,  0.        , -0.01891121, ...,  0.        ,\n",
       "         0.        ,  0.        ]])"
      ]
     },
     "execution_count": 11,
     "metadata": {},
     "output_type": "execute_result"
    }
   ],
   "source": [
    "\n",
    "filled_matrix = filled_matrix.T / np.sqrt(len(movies_dict)-1)\n",
    "filled_matrix"
   ]
  },
  {
   "cell_type": "code",
   "execution_count": 12,
   "id": "6b1573a1",
   "metadata": {
    "execution": {
     "iopub.execute_input": "2023-11-17T04:45:58.994614Z",
     "iopub.status.busy": "2023-11-17T04:45:58.994295Z",
     "iopub.status.idle": "2023-11-17T04:46:01.540328Z",
     "shell.execute_reply": "2023-11-17T04:46:01.538441Z"
    },
    "papermill": {
     "duration": 2.554988,
     "end_time": "2023-11-17T04:46:01.542552",
     "exception": false,
     "start_time": "2023-11-17T04:45:58.987564",
     "status": "completed"
    },
    "tags": []
   },
   "outputs": [
    {
     "name": "stdout",
     "output_type": "stream",
     "text": [
      "Root Mean Squared Error (RMSE) for SVD Collaborative Filtering: 0.019438540932408196\n",
      "Mean Absolute Error (MAE) for SVD Collaborative Filtering: 0.015074681147934981\n"
     ]
    }
   ],
   "source": [
    "from sklearn.metrics import mean_squared_error, mean_absolute_error\n",
    "import numpy as np\n",
    "from sklearn.model_selection import train_test_split\n",
    "\n",
    "X_train, X_test, _, _ = train_test_split(filled_matrix, filled_matrix, test_size=0.2, random_state=42)\n",
    "\n",
    "U, S, V = np.linalg.svd(X_train)\n",
    "\n",
    "k = 50\n",
    "predicted_matrix = np.dot(U[:, :k], np.dot(np.diag(S[:k]), V[:k, :]))\n",
    "\n",
    "\n",
    "squared_errors = 0\n",
    "absolute_errors = 0\n",
    "num_predictions = 0\n",
    "\n",
    "test_data = X_test\n",
    "\n",
    "for i in range(test_data.shape[0]):\n",
    "    for j in range(test_data.shape[1]):\n",
    "        if test_data[i, j] != 0:\n",
    "            squared_errors += (test_data[i, j] - predicted_matrix[i, j]) ** 2\n",
    "            absolute_errors += abs(test_data[i, j] - predicted_matrix[i, j])\n",
    "            num_predictions += 1\n",
    "\n",
    "#Calculate the RMSE and MAE\n",
    "rmse = np.sqrt(squared_errors / num_predictions)\n",
    "mae = absolute_errors / num_predictions\n",
    "\n",
    "print(\"Root Mean Squared Error (RMSE) for SVD Collaborative Filtering:\", rmse)\n",
    "print(\"Mean Absolute Error (MAE) for SVD Collaborative Filtering:\", mae)\n"
   ]
  },
  {
   "cell_type": "code",
   "execution_count": 13,
   "id": "e5543636",
   "metadata": {
    "execution": {
     "iopub.execute_input": "2023-11-17T04:46:01.555578Z",
     "iopub.status.busy": "2023-11-17T04:46:01.554997Z",
     "iopub.status.idle": "2023-11-17T04:46:01.561980Z",
     "shell.execute_reply": "2023-11-17T04:46:01.560459Z"
    },
    "papermill": {
     "duration": 0.016372,
     "end_time": "2023-11-17T04:46:01.564599",
     "exception": false,
     "start_time": "2023-11-17T04:46:01.548227",
     "status": "completed"
    },
    "tags": []
   },
   "outputs": [],
   "source": [
    "case_insensitive_movies_list = [i.lower() for i in unique_movies]"
   ]
  },
  {
   "cell_type": "code",
   "execution_count": 14,
   "id": "2ab5cc03",
   "metadata": {
    "execution": {
     "iopub.execute_input": "2023-11-17T04:46:01.578059Z",
     "iopub.status.busy": "2023-11-17T04:46:01.576618Z",
     "iopub.status.idle": "2023-11-17T04:46:01.582717Z",
     "shell.execute_reply": "2023-11-17T04:46:01.581706Z"
    },
    "papermill": {
     "duration": 0.014516,
     "end_time": "2023-11-17T04:46:01.584617",
     "exception": false,
     "start_time": "2023-11-17T04:46:01.570101",
     "status": "completed"
    },
    "tags": []
   },
   "outputs": [],
   "source": [
    "def top_cosine_similarity(data, movie_id, top_n=10):\n",
    "  index = movie_id \n",
    "  movie_row = data[index, :]\n",
    "  magnitude = np.sqrt(np.einsum('ij, ij -> i', data, data))\n",
    "  similarity = np.dot(movie_row, data.T) / (magnitude[index] * magnitude)\n",
    "  sort_indexes = np.argsort(-similarity)\n",
    "  return sort_indexes[:top_n]"
   ]
  },
  {
   "cell_type": "code",
   "execution_count": 15,
   "id": "a72a0cb8",
   "metadata": {
    "execution": {
     "iopub.execute_input": "2023-11-17T04:46:01.597719Z",
     "iopub.status.busy": "2023-11-17T04:46:01.596644Z",
     "iopub.status.idle": "2023-11-17T04:46:01.603545Z",
     "shell.execute_reply": "2023-11-17T04:46:01.602241Z"
    },
    "papermill": {
     "duration": 0.016126,
     "end_time": "2023-11-17T04:46:01.606124",
     "exception": false,
     "start_time": "2023-11-17T04:46:01.589998",
     "status": "completed"
    },
    "tags": []
   },
   "outputs": [],
   "source": [
    "\n",
    "#k-principal components to represent movies, movie_id to find recommendations, top_n print n results        \n",
    "def get_similar_movies(movie_name,top_n,k = 50):\n",
    "  \n",
    "  sliced = V.T[:, :k] # representative data\n",
    "  movie_id = movies_dict[movie_name]\n",
    "  indexes = top_cosine_similarity(sliced, movie_id, top_n)\n",
    "  print(\" \")\n",
    "  print(\"Movies recommended based on SVD Collaborative Filtering for \\n\",movie_name, \" are: \")\n",
    "  print(\" \")\n",
    "  for i in indexes[1:]:\n",
    "    print(unique_movies[i])"
   ]
  },
  {
   "cell_type": "code",
   "execution_count": 16,
   "id": "51fbed8a",
   "metadata": {
    "execution": {
     "iopub.execute_input": "2023-11-17T04:46:01.618492Z",
     "iopub.status.busy": "2023-11-17T04:46:01.618120Z",
     "iopub.status.idle": "2023-11-17T04:46:01.624515Z",
     "shell.execute_reply": "2023-11-17T04:46:01.623225Z"
    },
    "papermill": {
     "duration": 0.014753,
     "end_time": "2023-11-17T04:46:01.626443",
     "exception": false,
     "start_time": "2023-11-17T04:46:01.611690",
     "status": "completed"
    },
    "tags": []
   },
   "outputs": [],
   "source": [
    "def get_possible_movies(movie):\n",
    "\n",
    "    temp = ''\n",
    "    possible_movies = case_insensitive_movies_list.copy()\n",
    "    for i in movie :\n",
    "      out = []\n",
    "      temp += i\n",
    "      for j in possible_movies:\n",
    "        if temp in j:\n",
    "          out.append(j)\n",
    "      if len(out) == 0:\n",
    "          return possible_movies\n",
    "      out.sort()\n",
    "      possible_movies = out.copy()\n",
    "\n",
    "    return possible_movies"
   ]
  },
  {
   "cell_type": "code",
   "execution_count": 17,
   "id": "ed91a9dc",
   "metadata": {
    "execution": {
     "iopub.execute_input": "2023-11-17T04:46:01.639091Z",
     "iopub.status.busy": "2023-11-17T04:46:01.638680Z",
     "iopub.status.idle": "2023-11-17T04:46:01.646269Z",
     "shell.execute_reply": "2023-11-17T04:46:01.644611Z"
    },
    "papermill": {
     "duration": 0.016502,
     "end_time": "2023-11-17T04:46:01.648346",
     "exception": false,
     "start_time": "2023-11-17T04:46:01.631844",
     "status": "completed"
    },
    "tags": []
   },
   "outputs": [],
   "source": [
    "\n",
    "class invalid(Exception):\n",
    "    pass\n",
    "\n",
    "def SVD_Movie_Recommender():\n",
    "    \n",
    "    try:\n",
    "      movie_name = \"Vampires (1998)\"\n",
    "      #movie_name = input(\"Enter the Movie name: \")\n",
    "      movie_name_lower = movie_name.lower()\n",
    "      if movie_name_lower not in case_insensitive_movies_list :\n",
    "        raise invalid\n",
    "      else :\n",
    "        get_similar_movies(unique_movies[case_insensitive_movies_list.index(movie_name_lower)],11)\n",
    "\n",
    "    except invalid:\n",
    "\n",
    "      possible_movies = get_possible_movies(movie_name_lower)\n",
    "\n",
    "      if len(possible_movies) == len(unique_movies) :\n",
    "        print(\"Movie name entered is does not exist in the list \")\n",
    "      else :\n",
    "        indices = [case_insensitive_movies_list.index(i) for i in possible_movies]\n",
    "        print(\"Entered Movie name is not matching with any movie from the dataset . Please check the below suggestions :\\n\",[unique_movies[i] for i in indices])\n",
    "        print(\"\")\n",
    "        SVD_Movie_Recommender()\n"
   ]
  },
  {
   "cell_type": "code",
   "execution_count": 18,
   "id": "057c70a3",
   "metadata": {
    "execution": {
     "iopub.execute_input": "2023-11-17T04:46:01.662301Z",
     "iopub.status.busy": "2023-11-17T04:46:01.661769Z",
     "iopub.status.idle": "2023-11-17T04:46:01.668026Z",
     "shell.execute_reply": "2023-11-17T04:46:01.667257Z"
    },
    "papermill": {
     "duration": 0.01541,
     "end_time": "2023-11-17T04:46:01.670033",
     "exception": false,
     "start_time": "2023-11-17T04:46:01.654623",
     "status": "completed"
    },
    "tags": []
   },
   "outputs": [
    {
     "name": "stdout",
     "output_type": "stream",
     "text": [
      " \n",
      "Movies recommended based on SVD Collaborative Filtering for \n",
      " Vampires (1998)  are: \n",
      " \n",
      "Shadow Conspiracy (1997)\n",
      "House Party 2 (1991)\n",
      "Frenzy (1972)\n",
      "Cutthroat Island (1995)\n",
      "Deep Rising (1998)\n",
      "Teenage Mutant Ninja Turtles III (1993)\n",
      "Set It Off (1996)\n",
      "Kids (1995)\n",
      "Sgt. Bilko (1996)\n",
      "Eye for an Eye (1996)\n"
     ]
    }
   ],
   "source": [
    "SVD_Movie_Recommender()"
   ]
  },
  {
   "cell_type": "code",
   "execution_count": 19,
   "id": "8276acd8",
   "metadata": {
    "execution": {
     "iopub.execute_input": "2023-11-17T04:46:01.685292Z",
     "iopub.status.busy": "2023-11-17T04:46:01.684844Z",
     "iopub.status.idle": "2023-11-17T04:46:01.690153Z",
     "shell.execute_reply": "2023-11-17T04:46:01.689424Z"
    },
    "papermill": {
     "duration": 0.01611,
     "end_time": "2023-11-17T04:46:01.692952",
     "exception": false,
     "start_time": "2023-11-17T04:46:01.676842",
     "status": "completed"
    },
    "tags": []
   },
   "outputs": [
    {
     "name": "stdout",
     "output_type": "stream",
     "text": [
      "Root Mean Squared Error (RMSE) for SVD Collaborative Filtering: 0.019438540932408196\n",
      "Mean Absolute Error (MAE) for SVD Collaborative Filtering: 0.015074681147934981\n"
     ]
    }
   ],
   "source": [
    "rmse = np.sqrt(squared_errors / num_predictions)\n",
    "mae = absolute_errors / num_predictions\n",
    "\n",
    "print(\"Root Mean Squared Error (RMSE) for SVD Collaborative Filtering:\", rmse)\n",
    "print(\"Mean Absolute Error (MAE) for SVD Collaborative Filtering:\", mae )"
   ]
  }
 ],
 "metadata": {
  "kaggle": {
   "accelerator": "none",
   "dataSources": [
    {
     "datasetId": 626,
     "sourceId": 1187,
     "sourceType": "datasetVersion"
    },
    {
     "datasetId": 3901125,
     "sourceId": 6778768,
     "sourceType": "datasetVersion"
    },
    {
     "datasetId": 3923550,
     "sourceId": 6822508,
     "sourceType": "datasetVersion"
    },
    {
     "datasetId": 3924001,
     "sourceId": 6823687,
     "sourceType": "datasetVersion"
    }
   ],
   "dockerImageVersionId": 30558,
   "isGpuEnabled": false,
   "isInternetEnabled": true,
   "language": "python",
   "sourceType": "notebook"
  },
  "kernelspec": {
   "display_name": "Python 3",
   "language": "python",
   "name": "python3"
  },
  "language_info": {
   "codemirror_mode": {
    "name": "ipython",
    "version": 3
   },
   "file_extension": ".py",
   "mimetype": "text/x-python",
   "name": "python",
   "nbconvert_exporter": "python",
   "pygments_lexer": "ipython3",
   "version": "3.10.12"
  },
  "papermill": {
   "default_parameters": {},
   "duration": 8.64157,
   "end_time": "2023-11-17T04:46:02.321782",
   "environment_variables": {},
   "exception": null,
   "input_path": "__notebook__.ipynb",
   "output_path": "__notebook__.ipynb",
   "parameters": {},
   "start_time": "2023-11-17T04:45:53.680212",
   "version": "2.4.0"
  }
 },
 "nbformat": 4,
 "nbformat_minor": 5
}
