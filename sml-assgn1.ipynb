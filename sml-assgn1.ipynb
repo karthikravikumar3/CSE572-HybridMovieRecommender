{
 "cells": [
  {
   "cell_type": "markdown",
   "id": "f0f244a4",
   "metadata": {
    "papermill": {
     "duration": 0.005069,
     "end_time": "2024-01-28T18:22:06.423579",
     "exception": false,
     "start_time": "2024-01-28T18:22:06.418510",
     "status": "completed"
    },
    "tags": []
   },
   "source": [
    "# Linear regression [9 pts]\n",
    "\n",
    "In this homework, you will implement solution algorithms for linear regression.\n",
    "\n",
    "\n",
    "## Import libraries\n",
    "Let's begin by importing some libraries. "
   ]
  },
  {
   "cell_type": "code",
   "execution_count": 1,
   "id": "8e7aa646",
   "metadata": {
    "execution": {
     "iopub.execute_input": "2024-01-28T18:22:06.434641Z",
     "iopub.status.busy": "2024-01-28T18:22:06.433899Z",
     "iopub.status.idle": "2024-01-28T18:22:07.736240Z",
     "shell.execute_reply": "2024-01-28T18:22:07.734986Z"
    },
    "papermill": {
     "duration": 1.310832,
     "end_time": "2024-01-28T18:22:07.739013",
     "exception": false,
     "start_time": "2024-01-28T18:22:06.428181",
     "status": "completed"
    },
    "tags": []
   },
   "outputs": [],
   "source": [
    "import matplotlib.pyplot as plt\n",
    "import numpy as np\n",
    "from sklearn import datasets\n",
    "%matplotlib inline"
   ]
  },
  {
   "cell_type": "markdown",
   "id": "48f96725",
   "metadata": {
    "papermill": {
     "duration": 0.003828,
     "end_time": "2024-01-28T18:22:07.747226",
     "exception": false,
     "start_time": "2024-01-28T18:22:07.743398",
     "status": "completed"
    },
    "tags": []
   },
   "source": [
    "## Load dataset\n",
    "\n",
    "Now, we are importing a dataset of diabetes. You can check the details on this dataset here: https://scikit-learn.org/stable/datasets/toy_dataset.html#diabetes-dataset. \n",
    "\n",
    "The dataset consists of 442 observations with 10 attributes ($X$) that may affect the progression of diabetes ($y$). Ten baseline variables, age, sex, body mass index, average blood pressure, and six blood serum measurements were obtained for each of $n$ = 442 diabetes patients, as well as the response of interest, a quantitative measure of disease progression one year after baseline."
   ]
  },
  {
   "cell_type": "code",
   "execution_count": 2,
   "id": "fd04101d",
   "metadata": {
    "execution": {
     "iopub.execute_input": "2024-01-28T18:22:07.757123Z",
     "iopub.status.busy": "2024-01-28T18:22:07.756715Z",
     "iopub.status.idle": "2024-01-28T18:22:07.774251Z",
     "shell.execute_reply": "2024-01-28T18:22:07.772902Z"
    },
    "papermill": {
     "duration": 0.025479,
     "end_time": "2024-01-28T18:22:07.776723",
     "exception": false,
     "start_time": "2024-01-28T18:22:07.751244",
     "status": "completed"
    },
    "tags": []
   },
   "outputs": [
    {
     "name": "stdout",
     "output_type": "stream",
     "text": [
      "The shape of the input features: (442, 10)\n",
      "The shape of the output varaible: (442,)\n"
     ]
    }
   ],
   "source": [
    "# Load the diabetes dataset\n",
    "diabetes_X, diabetes_y = datasets.load_diabetes(return_X_y=True)\n",
    "print('The shape of the input features:',diabetes_X.shape)\n",
    "print('The shape of the output varaible:',diabetes_y.shape)"
   ]
  },
  {
   "cell_type": "markdown",
   "id": "97e1d489",
   "metadata": {
    "papermill": {
     "duration": 0.004062,
     "end_time": "2024-01-28T18:22:07.785042",
     "exception": false,
     "start_time": "2024-01-28T18:22:07.780980",
     "status": "completed"
    },
    "tags": []
   },
   "source": [
    "We will choose just one attribute from the ten attributes as an input variable."
   ]
  },
  {
   "cell_type": "code",
   "execution_count": 3,
   "id": "de29ddd3",
   "metadata": {
    "execution": {
     "iopub.execute_input": "2024-01-28T18:22:07.795103Z",
     "iopub.status.busy": "2024-01-28T18:22:07.794668Z",
     "iopub.status.idle": "2024-01-28T18:22:07.799073Z",
     "shell.execute_reply": "2024-01-28T18:22:07.798366Z"
    },
    "papermill": {
     "duration": 0.012442,
     "end_time": "2024-01-28T18:22:07.801542",
     "exception": false,
     "start_time": "2024-01-28T18:22:07.789100",
     "status": "completed"
    },
    "tags": []
   },
   "outputs": [
    {
     "name": "stdout",
     "output_type": "stream",
     "text": [
      "(442, 1)\n"
     ]
    }
   ],
   "source": [
    "# Use only one feature\n",
    "diabetes_X_one = diabetes_X[:, np.newaxis, 2]\n",
    "print(diabetes_X_one.shape)"
   ]
  },
  {
   "cell_type": "markdown",
   "id": "896ecb19",
   "metadata": {
    "papermill": {
     "duration": 0.004143,
     "end_time": "2024-01-28T18:22:07.810007",
     "exception": false,
     "start_time": "2024-01-28T18:22:07.805864",
     "status": "completed"
    },
    "tags": []
   },
   "source": [
    "## Dataset split\n",
    "\n",
    "Now, we split the dataset into two parts: training set and test set. \n",
    "\n",
    "- training set: 422 samples\n",
    "- test set: 20 samples "
   ]
  },
  {
   "cell_type": "code",
   "execution_count": 4,
   "id": "1be824e8",
   "metadata": {
    "execution": {
     "iopub.execute_input": "2024-01-28T18:22:07.820644Z",
     "iopub.status.busy": "2024-01-28T18:22:07.820251Z",
     "iopub.status.idle": "2024-01-28T18:22:07.826506Z",
     "shell.execute_reply": "2024-01-28T18:22:07.825500Z"
    },
    "papermill": {
     "duration": 0.01435,
     "end_time": "2024-01-28T18:22:07.828831",
     "exception": false,
     "start_time": "2024-01-28T18:22:07.814481",
     "status": "completed"
    },
    "tags": []
   },
   "outputs": [
    {
     "name": "stdout",
     "output_type": "stream",
     "text": [
      "Training input variable shape: (422, 1)\n",
      "Test input variable shape: (20, 1)\n"
     ]
    }
   ],
   "source": [
    "# Split the data into training/testing sets\n",
    "diabetes_X_train = diabetes_X_one[:-20]\n",
    "diabetes_X_test = diabetes_X_one[-20:]\n",
    "\n",
    "# Split the targets into training/testing sets\n",
    "diabetes_y_train = diabetes_y[:-20]\n",
    "diabetes_y_test = diabetes_y[-20:]\n",
    "\n",
    "print('Training input variable shape:', diabetes_X_train.shape)\n",
    "print('Test input variable shape:', diabetes_X_test.shape)"
   ]
  },
  {
   "cell_type": "markdown",
   "id": "9d218d31",
   "metadata": {
    "papermill": {
     "duration": 0.004329,
     "end_time": "2024-01-28T18:22:07.837657",
     "exception": false,
     "start_time": "2024-01-28T18:22:07.833328",
     "status": "completed"
    },
    "tags": []
   },
   "source": [
    "## Linear regression \n",
    "\n",
    "Assume that we have a hypothesis $$ h_{\\theta}(x) = \\theta_0 + \\theta_1 x. $$\n",
    "\n",
    "Your tasks: \n",
    "\n",
    "- [3pts] implement {your own version} of the method of least-squares, compute and report $\\theta_0$ and $\\theta_1$ that minimize the residual sum of squares, )\n",
    "$$ \\sum_{i=1}^{N} \\frac{1}{2}( y^{(i)} - h_{\\theta}(x^{(i)})^2$$\n",
    "\n",
    "[IMPORTANT] Do not just call the least square function from libraries, for example, \n",
    "scipy.optimize.least_squares from scipy. Doing so will result in 0 point. Using helping functions such as numpy.linalg.inv is okay. \n",
    "\n",
    "- [3pts] implement your own version of the gradient descent algorithm, compute and report $\\theta_0$ and $\\theta_1$ that minimize the mean squared error $$ \\sum_{i=1}^{N} \\frac{1}{N}( y^{(i)} - h_{\\theta}(x^{(i)})^2$$\n",
    "\n",
    "[NOTE] Notice that the loss function is mean-squared error. \n",
    "\n",
    "- [3pts] derive the analytical expression of the gradient if the loss is defined as \n",
    "$$ \\sum_{i=1}^{N} \\frac{1}{2}( y^{(i)} - h_{\\theta}(x^{(i)})^2 + \\frac{\\lambda}{2} \\| \\theta \\|_2^2, $$\n",
    "where $\\theta = [\\theta_0, \\theta_1]^{\\intercal}$\n",
    "\n",
    "To check whether your computation is correct, consider using an API such as Scikit learn linearregression."
   ]
  },
  {
   "cell_type": "code",
   "execution_count": 5,
   "id": "237799f0",
   "metadata": {
    "execution": {
     "iopub.execute_input": "2024-01-28T18:22:07.848542Z",
     "iopub.status.busy": "2024-01-28T18:22:07.847909Z",
     "iopub.status.idle": "2024-01-28T18:22:07.863347Z",
     "shell.execute_reply": "2024-01-28T18:22:07.861598Z"
    },
    "papermill": {
     "duration": 0.023567,
     "end_time": "2024-01-28T18:22:07.865691",
     "exception": false,
     "start_time": "2024-01-28T18:22:07.842124",
     "status": "completed"
    },
    "tags": []
   },
   "outputs": [
    {
     "name": "stdout",
     "output_type": "stream",
     "text": [
      "theta1 - 152.9188618261612  theta2 - 938.2378612513519\n"
     ]
    }
   ],
   "source": [
    "#Task - 1 \n",
    "#Hypothesis function\n",
    "def hyp(x,thet1,thet2):\n",
    "    return thet1+thet2*x\n",
    "\n",
    "x = np.column_stack((np.ones_like(diabetes_X_train),diabetes_X_train))\n",
    "\n",
    "#calculating the coefficients of theta using the least squares method\n",
    "matrix = np.linalg.inv(x.T@x)@x.T@diabetes_y_train\n",
    "\n",
    "#finding the intercept\n",
    "theta1 = matrix[0]\n",
    "#and slope\n",
    "theta2 = matrix[1]\n",
    "\n",
    "#Solution\n",
    "print(\"theta1 -\",theta1,\" theta2 -\",theta2)\n"
   ]
  },
  {
   "cell_type": "code",
   "execution_count": 6,
   "id": "41612465",
   "metadata": {
    "execution": {
     "iopub.execute_input": "2024-01-28T18:22:07.876323Z",
     "iopub.status.busy": "2024-01-28T18:22:07.875979Z",
     "iopub.status.idle": "2024-01-28T18:22:07.951606Z",
     "shell.execute_reply": "2024-01-28T18:22:07.950425Z"
    },
    "papermill": {
     "duration": 0.08391,
     "end_time": "2024-01-28T18:22:07.954236",
     "exception": false,
     "start_time": "2024-01-28T18:22:07.870326",
     "status": "completed"
    },
    "tags": []
   },
   "outputs": [
    {
     "name": "stdout",
     "output_type": "stream",
     "text": [
      "theta1 - 152.91907269521593  theta2 - 937.7929695908942\n"
     ]
    }
   ],
   "source": [
    "#Task - 2\n",
    "def gradientDescent(x,data,initial_sol,learning_rate,iterations):\n",
    "    theta=initial_sol\n",
    "    for i in range(iterations):\n",
    "        theta=theta-learning_rate*((x.T@x)@theta - (x.T@diabetes_y_train))*2\n",
    "    return theta\n",
    "\n",
    "learning_rate = 0.001\n",
    "initial_sol = [1,1]\n",
    "iterations = 4000\n",
    "\n",
    "result = gradientDescent(x,diabetes_y_train,initial_sol,learning_rate,iterations)\n",
    "\n",
    "#printing theta1 and theta2\n",
    "print(\"theta1 -\",result[0],\" theta2 -\",result[1])"
   ]
  },
  {
   "cell_type": "code",
   "execution_count": null,
   "id": "e8bea3c7",
   "metadata": {
    "papermill": {
     "duration": 0.004528,
     "end_time": "2024-01-28T18:22:07.963695",
     "exception": false,
     "start_time": "2024-01-28T18:22:07.959167",
     "status": "completed"
    },
    "tags": []
   },
   "outputs": [],
   "source": []
  }
 ],
 "metadata": {
  "kaggle": {
   "accelerator": "none",
   "dataSources": [],
   "dockerImageVersionId": 30635,
   "isGpuEnabled": false,
   "isInternetEnabled": true,
   "language": "python",
   "sourceType": "notebook"
  },
  "kernelspec": {
   "display_name": "Python 3",
   "language": "python",
   "name": "python3"
  },
  "language_info": {
   "codemirror_mode": {
    "name": "ipython",
    "version": 3
   },
   "file_extension": ".py",
   "mimetype": "text/x-python",
   "name": "python",
   "nbconvert_exporter": "python",
   "pygments_lexer": "ipython3",
   "version": "3.10.12"
  },
  "papermill": {
   "default_parameters": {},
   "duration": 5.351431,
   "end_time": "2024-01-28T18:22:08.387607",
   "environment_variables": {},
   "exception": null,
   "input_path": "__notebook__.ipynb",
   "output_path": "__notebook__.ipynb",
   "parameters": {},
   "start_time": "2024-01-28T18:22:03.036176",
   "version": "2.4.0"
  }
 },
 "nbformat": 4,
 "nbformat_minor": 5
}
